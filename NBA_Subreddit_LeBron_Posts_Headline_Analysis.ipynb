{
  "nbformat": 4,
  "nbformat_minor": 0,
  "metadata": {
    "colab": {
      "name": "NBA Subreddit LeBron Posts Headline Analysis.ipynb",
      "provenance": [],
      "authorship_tag": "ABX9TyNAhUUw18FYwdW1QOP9KuAl",
      "include_colab_link": true
    },
    "kernelspec": {
      "name": "python3",
      "display_name": "Python 3"
    },
    "language_info": {
      "name": "python"
    }
  },
  "cells": [
    {
      "cell_type": "markdown",
      "metadata": {
        "id": "view-in-github",
        "colab_type": "text"
      },
      "source": [
        "<a href=\"https://colab.research.google.com/github/utkarshnsr/NBA-Subreddit-GOAT-Analysis/blob/main/NBA_Subreddit_LeBron_Posts_Headline_Analysis.ipynb\" target=\"_parent\"><img src=\"https://colab.research.google.com/assets/colab-badge.svg\" alt=\"Open In Colab\"/></a>"
      ]
    },
    {
      "cell_type": "code",
      "source": [
        "pip install praw"
      ],
      "metadata": {
        "colab": {
          "base_uri": "https://localhost:8080/"
        },
        "id": "UcCYQhr4e_eA",
        "outputId": "bee15c4f-afaf-48f6-9fb0-25e95e133bac"
      },
      "execution_count": 295,
      "outputs": [
        {
          "output_type": "stream",
          "name": "stdout",
          "text": [
            "Requirement already satisfied: praw in /usr/local/lib/python3.7/dist-packages (7.6.0)\n",
            "Requirement already satisfied: websocket-client>=0.54.0 in /usr/local/lib/python3.7/dist-packages (from praw) (1.3.2)\n",
            "Requirement already satisfied: prawcore<3,>=2.1 in /usr/local/lib/python3.7/dist-packages (from praw) (2.3.0)\n",
            "Requirement already satisfied: update-checker>=0.18 in /usr/local/lib/python3.7/dist-packages (from praw) (0.18.0)\n",
            "Requirement already satisfied: requests<3.0,>=2.6.0 in /usr/local/lib/python3.7/dist-packages (from prawcore<3,>=2.1->praw) (2.23.0)\n",
            "Requirement already satisfied: idna<3,>=2.5 in /usr/local/lib/python3.7/dist-packages (from requests<3.0,>=2.6.0->prawcore<3,>=2.1->praw) (2.10)\n",
            "Requirement already satisfied: urllib3!=1.25.0,!=1.25.1,<1.26,>=1.21.1 in /usr/local/lib/python3.7/dist-packages (from requests<3.0,>=2.6.0->prawcore<3,>=2.1->praw) (1.24.3)\n",
            "Requirement already satisfied: chardet<4,>=3.0.2 in /usr/local/lib/python3.7/dist-packages (from requests<3.0,>=2.6.0->prawcore<3,>=2.1->praw) (3.0.4)\n",
            "Requirement already satisfied: certifi>=2017.4.17 in /usr/local/lib/python3.7/dist-packages (from requests<3.0,>=2.6.0->prawcore<3,>=2.1->praw) (2021.10.8)\n"
          ]
        }
      ]
    },
    {
      "cell_type": "markdown",
      "source": [
        "The authentication part of the code has been hidden. "
      ],
      "metadata": {
        "id": "2nK7n8X3RU8C"
      }
    },
    {
      "cell_type": "code",
      "execution_count": 308,
      "metadata": {
        "id": "ShMp0Z8ydhSj"
      },
      "outputs": [],
      "source": [
        ""
      ]
    },
    {
      "cell_type": "code",
      "source": [
        "subreddit = rro.subreddit(\"nba\")"
      ],
      "metadata": {
        "id": "sru2TEzRfXie"
      },
      "execution_count": 297,
      "outputs": []
    },
    {
      "cell_type": "code",
      "source": [
        "print(f\"Subreddit Display Name: {subreddit.display_name}\")"
      ],
      "metadata": {
        "colab": {
          "base_uri": "https://localhost:8080/"
        },
        "id": "_S27ImnhhFFG",
        "outputId": "f0204eb6-9225-4307-a890-3264ee693b8c"
      },
      "execution_count": 298,
      "outputs": [
        {
          "output_type": "stream",
          "name": "stdout",
          "text": [
            "Subreddit Display Name: nba\n"
          ]
        }
      ]
    },
    {
      "cell_type": "code",
      "source": [
        "import pandas as pd"
      ],
      "metadata": {
        "id": "m64aOCQdqf1C"
      },
      "execution_count": 299,
      "outputs": []
    },
    {
      "cell_type": "code",
      "source": [
        "from IPython import display\n",
        "import math\n",
        "from pprint import pprint\n",
        "import pandas as pd\n",
        "import numpy as np\n",
        "import nltk\n",
        "import matplotlib.pyplot as plt\n",
        "import seaborn as sns\n",
        "sns.set(style='darkgrid', context='talk', palette='Dark2')\n",
        "from nltk.sentiment.vader import SentimentIntensityAnalyzer as SIA"
      ],
      "metadata": {
        "id": "UTXDkzKileZb"
      },
      "execution_count": 300,
      "outputs": []
    },
    {
      "cell_type": "code",
      "source": [
        "pip install twython"
      ],
      "metadata": {
        "colab": {
          "base_uri": "https://localhost:8080/"
        },
        "id": "F6UGZbRJs1Bm",
        "outputId": "70d4bf69-6182-4a95-d205-279d53c53be5"
      },
      "execution_count": 301,
      "outputs": [
        {
          "output_type": "stream",
          "name": "stdout",
          "text": [
            "Requirement already satisfied: twython in /usr/local/lib/python3.7/dist-packages (3.9.1)\n",
            "Requirement already satisfied: requests>=2.1.0 in /usr/local/lib/python3.7/dist-packages (from twython) (2.23.0)\n",
            "Requirement already satisfied: requests-oauthlib>=0.4.0 in /usr/local/lib/python3.7/dist-packages (from twython) (1.3.1)\n",
            "Requirement already satisfied: certifi>=2017.4.17 in /usr/local/lib/python3.7/dist-packages (from requests>=2.1.0->twython) (2021.10.8)\n",
            "Requirement already satisfied: chardet<4,>=3.0.2 in /usr/local/lib/python3.7/dist-packages (from requests>=2.1.0->twython) (3.0.4)\n",
            "Requirement already satisfied: idna<3,>=2.5 in /usr/local/lib/python3.7/dist-packages (from requests>=2.1.0->twython) (2.10)\n",
            "Requirement already satisfied: urllib3!=1.25.0,!=1.25.1,<1.26,>=1.21.1 in /usr/local/lib/python3.7/dist-packages (from requests>=2.1.0->twython) (1.24.3)\n",
            "Requirement already satisfied: oauthlib>=3.0.0 in /usr/local/lib/python3.7/dist-packages (from requests-oauthlib>=0.4.0->twython) (3.2.0)\n"
          ]
        }
      ]
    },
    {
      "cell_type": "code",
      "source": [
        "import nltk"
      ],
      "metadata": {
        "id": "3SeeWYYruJ6D"
      },
      "execution_count": 302,
      "outputs": []
    },
    {
      "cell_type": "code",
      "source": [
        "nltk.download('vader_lexicon')"
      ],
      "metadata": {
        "colab": {
          "base_uri": "https://localhost:8080/"
        },
        "id": "QuqYu0jBuhTV",
        "outputId": "c5de5a14-e4fd-4184-872f-814e320a3bf3"
      },
      "execution_count": 303,
      "outputs": [
        {
          "output_type": "stream",
          "name": "stdout",
          "text": [
            "[nltk_data] Downloading package vader_lexicon to /root/nltk_data...\n",
            "[nltk_data]   Package vader_lexicon is already up-to-date!\n"
          ]
        },
        {
          "output_type": "execute_result",
          "data": {
            "text/plain": [
              "True"
            ]
          },
          "metadata": {},
          "execution_count": 303
        }
      ]
    },
    {
      "cell_type": "code",
      "source": [
        "def constructPlayerDf(playerName):\n",
        "  relatedPosts = subreddit.search(f\"({playerName} goat)\",limit=None,time_filter=\"all\")\n",
        "  postsDict = {\"Title\": [], \"Post URL\": []}\n",
        "\n",
        "  for post in relatedPosts:\n",
        "      postsDict[\"Title\"].append(post.title)\n",
        "      postsDict[\"Post URL\"].append(post.url)\n",
        "\n",
        "\n",
        "  postsDf = pd.DataFrame(postsDict)\n",
        "  return postsDf"
      ],
      "metadata": {
        "id": "UZLZLLju0ES3"
      },
      "execution_count": 304,
      "outputs": []
    },
    {
      "cell_type": "code",
      "source": [
        "def getSentimentAnalysis(postsDf):\n",
        "  #Sentiment Intensity Analyzer\n",
        "  sia = SIA()\n",
        "  results = []\n",
        "\n",
        "  headlinesList = list(postsDf['Title'])\n",
        "\n",
        "  for headline in headlinesList:\n",
        "    polScore = sia.polarity_scores(headline)\n",
        "    polScore['headline'] = headline\n",
        "    results.append(polScore)\n",
        "  \n",
        "  analysisResults = pd.DataFrame.from_records(results)\n",
        "  analysisResults['Sentiment Label'] = 0\n",
        "  analysisResults.loc[analysisResults['compound'] > 0.2, 'Sentiment Label'] = 1\n",
        "  analysisResults.loc[analysisResults['compound'] < -0.2, 'Sentiment Label'] = -1\n",
        "  analysisResults.loc[analysisResults['Sentiment Label'] == 1, 'Sentiment Label'] = \"Positive\"\n",
        "  analysisResults.loc[analysisResults['Sentiment Label'] == -1, 'Sentiment Label'] = \"Negative\"\n",
        "  analysisResults.loc[analysisResults['Sentiment Label'] == 0, 'Sentiment Label'] = \"Neutral\"\n",
        "\n",
        "  return analysisResults, results"
      ],
      "metadata": {
        "id": "MPYmVUNGIhVD"
      },
      "execution_count": 305,
      "outputs": []
    },
    {
      "cell_type": "code",
      "source": [
        "def visualizeResults(analysisResults, playerName):\n",
        "  sentimentPercentages = analysisResults['Sentiment Label'].value_counts(normalize=True)\n",
        "  sentimentDict = dict(sentimentPercentages)\n",
        "  sLabel = sentimentDict.keys()\n",
        "  sValues = list(sentimentDict.values())\n",
        "\n",
        "  plt.bar(sLabel,sValues,align=\"center\")\n",
        "  plt.xlabel(\"Sentiment Labels\")\n",
        "  plt.ylabel(\"Percentages\")\n",
        "  plt.ylim(0.0, 0.6)\n",
        "  plt.title(f\"{playerName} Sentiment Visualization\")\n",
        "  for i in range(len(sValues)):\n",
        "    plt.text(i, round(sValues[i],2),round(100 * sValues[i], 2), ha='center',va='bottom')\n",
        "  plt.show()\n",
        "\n"
      ],
      "metadata": {
        "id": "XuDE5tjfJQzY"
      },
      "execution_count": 306,
      "outputs": []
    },
    {
      "cell_type": "markdown",
      "source": [
        "## Michael Jordan GOAT Post Headlines Analysis"
      ],
      "metadata": {
        "id": "vkiPqum9Jy3N"
      }
    },
    {
      "cell_type": "code",
      "source": [
        "jordanPostsDf = constructPlayerDf(\"Jordan\")\n",
        "jordanAnalysisResult, jordanResult = getSentimentAnalysis(jordanPostsDf)\n",
        "visualizeResults(jordanAnalysisResult, \"Jordan\")"
      ],
      "metadata": {
        "colab": {
          "base_uri": "https://localhost:8080/",
          "height": 525
        },
        "id": "wq6V-OoP1W2d",
        "outputId": "5f927abf-1ce4-408a-c198-3350295c0688"
      },
      "execution_count": 307,
      "outputs": [
        {
          "output_type": "stream",
          "name": "stderr",
          "text": [
            "It appears that you are using PRAW in an asynchronous environment.\n",
            "It is strongly recommended to use Async PRAW: https://asyncpraw.readthedocs.io.\n",
            "See https://praw.readthedocs.io/en/latest/getting_started/multiple_instances.html#discord-bots-and-asynchronous-environments for more info.\n",
            "\n",
            "It appears that you are using PRAW in an asynchronous environment.\n",
            "It is strongly recommended to use Async PRAW: https://asyncpraw.readthedocs.io.\n",
            "See https://praw.readthedocs.io/en/latest/getting_started/multiple_instances.html#discord-bots-and-asynchronous-environments for more info.\n",
            "\n",
            "It appears that you are using PRAW in an asynchronous environment.\n",
            "It is strongly recommended to use Async PRAW: https://asyncpraw.readthedocs.io.\n",
            "See https://praw.readthedocs.io/en/latest/getting_started/multiple_instances.html#discord-bots-and-asynchronous-environments for more info.\n",
            "\n"
          ]
        },
        {
          "output_type": "display_data",
          "data": {
            "text/plain": [
              "<Figure size 432x288 with 1 Axes>"
            ],
            "image/png": "[encoded data removed]"
          },
          "metadata": {}
        }
      ]
    },
    {
      "cell_type": "markdown",
      "source": [
        "## LeBron GOAT Post Headlines Analysis"
      ],
      "metadata": {
        "id": "-XBhRUoLNp7N"
      }
    },
    {
      "cell_type": "code",
      "source": [
        "leBronPostsDf = constructPlayerDf(\"Lebron\")\n",
        "leBronAnalysisResult, leBronResult = getSentimentAnalysis(leBronPostsDf)\n",
        "visualizeResults(leBronAnalysisResult, \"Lebron\")"
      ],
      "metadata": {
        "colab": {
          "base_uri": "https://localhost:8080/",
          "height": 525
        },
        "id": "Sc72kWww7XZp",
        "outputId": "e4a2e66d-94b7-431e-b2ad-1551d14a3cca"
      },
      "execution_count": 308,
      "outputs": [
        {
          "output_type": "stream",
          "name": "stderr",
          "text": [
            "It appears that you are using PRAW in an asynchronous environment.\n",
            "It is strongly recommended to use Async PRAW: https://asyncpraw.readthedocs.io.\n",
            "See https://praw.readthedocs.io/en/latest/getting_started/multiple_instances.html#discord-bots-and-asynchronous-environments for more info.\n",
            "\n",
            "It appears that you are using PRAW in an asynchronous environment.\n",
            "It is strongly recommended to use Async PRAW: https://asyncpraw.readthedocs.io.\n",
            "See https://praw.readthedocs.io/en/latest/getting_started/multiple_instances.html#discord-bots-and-asynchronous-environments for more info.\n",
            "\n",
            "It appears that you are using PRAW in an asynchronous environment.\n",
            "It is strongly recommended to use Async PRAW: https://asyncpraw.readthedocs.io.\n",
            "See https://praw.readthedocs.io/en/latest/getting_started/multiple_instances.html#discord-bots-and-asynchronous-environments for more info.\n",
            "\n"
          ]
        },
        {
          "output_type": "display_data",
          "data": {
            "text/plain": [
              "<Figure size 432x288 with 1 Axes>"
            ],
            "image/png": "[encoded data removed]"
          },
          "metadata": {}
        }
      ]
    },
    {
      "cell_type": "markdown",
      "source": [
        "Based on these results, it is fair to assume that Jordan has more support for GOAT discussion. This is the initial analysis. Further study can be done for better results."
      ],
      "metadata": {
        "id": "ltQe4YeyUDvP"
      }
    },
    {
      "cell_type": "code",
      "source": [
        ""
      ],
      "metadata": {
        "id": "hvdlg2_ZUQ5W"
      },
      "execution_count": null,
      "outputs": []
    }
  ]
}